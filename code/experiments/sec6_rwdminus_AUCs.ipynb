{
 "cells": [
  {
   "cell_type": "markdown",
   "id": "94cae0f8",
   "metadata": {},
   "source": [
    "# PR-AUCs of RWD$^-$\n",
    "\n",
    "Get and format the data for Table 1 (AUC on RWD) and Figure 2 (a) of the paper."
   ]
  },
  {
   "cell_type": "code",
   "execution_count": null,
   "id": "24531dee-0b0a-4142-a625-8aabfea8c606",
   "metadata": {
    "tags": []
   },
   "outputs": [],
   "source": [
    "import os\n",
    "import sys\n",
    "\n",
    "import pandas as pd\n",
    "from sklearn.metrics import auc, precision_recall_curve\n",
    "\n",
    "# for Jupyter notebooks: add the path of 'code' to allow importing module\n",
    "sys.path.append(os.path.join(os.getcwd(), \"..\"))\n",
    "from afd_measures import utils as afd_utils\n",
    "\n",
    "results_path = \"../../results\"\n",
    "\n",
    "rwd_results = pd.DataFrame()\n",
    "for file in filter(\n",
    "    lambda f: f.startswith(\"rwd_results_\") and f.endswith(\".csv\"),\n",
    "    os.listdir(results_path),\n",
    "):\n",
    "    rwd_results = pd.concat(\n",
    "        [rwd_results, pd.read_csv(os.path.join(results_path, file))]\n",
    "    )\n",
    "\n",
    "rwd_minus = rwd_results[rwd_results[afd_utils.measure_order].notna().all(axis=\"columns\")].query(\"exact_fd == False\").copy()"
   ]
  },
  {
   "cell_type": "markdown",
   "id": "641c3f83-4b68-4719-96e8-d389052a6441",
   "metadata": {},
   "source": [
    "## Table 1 - PR-AUCs of RWD$^-$"
   ]
  },
  {
   "cell_type": "code",
   "execution_count": null,
   "id": "f621c22f-696b-46de-9a2f-10fb875526c0",
   "metadata": {},
   "outputs": [],
   "source": [
    "rwd_aucs = {}\n",
    "for measure in afd_utils.measure_order:\n",
    "    precision, recall, _ = precision_recall_curve(\n",
    "        rwd_minus.loc[:, \"afd\"], rwd_minus.loc[:, measure]\n",
    "    )\n",
    "    _auc = auc(recall, precision)\n",
    "    rwd_aucs[measure] = _auc\n",
    "\n",
    "pd.Series(rwd_aucs)"
   ]
  },
  {
   "cell_type": "markdown",
   "id": "b2100cb9-ceaf-43a6-a1b1-8ab65139eca7",
   "metadata": {},
   "source": [
    "## Figure 2 (a) - PR-AUCs per relation"
   ]
  },
  {
   "cell_type": "code",
   "execution_count": null,
   "id": "af3fdbb3-3ae8-4dac-a4dc-2ce6c19a5f35",
   "metadata": {},
   "outputs": [],
   "source": [
    "table_aucs = []\n",
    "name_mapping = {\n",
    "    \"adult.csv\": \"adultData\",\n",
    "    \"claims.csv\": \"claimsData\",\n",
    "    \"dblp10k.csv\": \"dblpData\",\n",
    "    \"hospital.csv\": \"hospitalData\",\n",
    "    \"tax.csv\": \"taxData\",\n",
    "    \"t_biocase_gathering_agent_r72738_c18.csv\": \"gathAgentData\",\n",
    "    \"t_biocase_gathering_namedareas_r137711_c11.csv\": \"gathAreaData\",\n",
    "    \"t_biocase_gathering_r90992_c35.csv\": \"gathData\",\n",
    "    \"t_biocase_identification_highertaxon_r562959_c3.csv\": \"identTaxonData\",\n",
    "    \"t_biocase_identification_r91800_c38.csv\": \"identData\",\n",
    "}\n",
    "\n",
    "for measure in afd_utils.measure_order:\n",
    "    aucs = { \"measure\": measure }\n",
    "    for table in name_mapping.keys():\n",
    "        _df = rwd_minus.query(\"table == @table\").copy()\n",
    "        if not _df[\"afd\"].any():\n",
    "            aucs[table] = 1.0\n",
    "        else:\n",
    "            precision, recall, _ = precision_recall_curve(\n",
    "                y_true = _df.loc[:, \"afd\"], probas_pred = _df.loc[:, measure]\n",
    "            )\n",
    "            _auc = auc(recall, precision)\n",
    "            aucs[table] = round(_auc, 3)\n",
    "    table_aucs.append(aucs)\n",
    "for i in range(len(table_aucs)):\n",
    "    m = table_aucs[i][\"measure\"]\n",
    "    table_aucs[i][\"\\\\rwdminus\"] = rwd_aucs[m]\n",
    "\n",
    "table_aucs = pd.DataFrame(table_aucs).set_index(\"measure\", drop=True).rename(index=afd_utils.measure_map, columns=name_mapping)\n",
    "table_aucs = table_aucs.iloc[:,[10,0,1,2,3,4,5,6,7,8,9]].copy() * 100\n",
    "max_values = table_aucs.iloc[:, 1:].max()\n",
    "table_aucs[\"best %\"] = (table_aucs.iloc[:, 1:].apply(lambda row: (row - max_values == 0).value_counts()[True], axis=\"columns\") / max_values.count() * 100).astype(int)\n",
    "table_aucs"
   ]
  },
  {
   "cell_type": "code",
   "execution_count": null,
   "id": "dbb80286-7773-4c28-847c-b5e908a17a12",
   "metadata": {},
   "outputs": [],
   "source": []
  }
 ],
 "metadata": {
  "kernelspec": {
   "display_name": "Python 3 (ipykernel)",
   "language": "python",
   "name": "python3"
  },
  "language_info": {
   "codemirror_mode": {
    "name": "ipython",
    "version": 3
   },
   "file_extension": ".py",
   "mimetype": "text/x-python",
   "name": "python",
   "nbconvert_exporter": "python",
   "pygments_lexer": "ipython3",
   "version": "3.11.0"
  }
 },
 "nbformat": 4,
 "nbformat_minor": 5
}
