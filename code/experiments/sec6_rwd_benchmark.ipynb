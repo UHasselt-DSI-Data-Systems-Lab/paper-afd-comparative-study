{
 "cells": [
  {
   "cell_type": "markdown",
   "id": "94cae0f8",
   "metadata": {},
   "source": [
    "# $RWD$ benchmark overview\n",
    "\n",
    "Create an overview of all relations in $RWD$."
   ]
  },
  {
   "cell_type": "code",
   "execution_count": null,
   "id": "22173111-acb6-4fe0-b920-be3c90eacdce",
   "metadata": {},
   "outputs": [],
   "source": [
    "import os\n",
    "import sys\n",
    "\n",
    "import pandas as pd\n",
    "\n",
    "# for Jupyter notebooks: add the path of 'code' to allow importing module\n",
    "sys.path.append(os.path.join(os.getcwd(), \"..\"))\n",
    "from afd_measures import utils as afd_utils\n",
    "\n",
    "data_path = \"../../data\"\n",
    "results_path = \"../../results\"\n",
    "\n",
    "rwd_data = {}\n",
    "for file in filter(lambda f: f.endswith(\".csv\"), os.listdir(os.path.join(data_path, \"rwd\"))):\n",
    "    rwd_data[file] = pd.read_csv(os.path.join(data_path, \"rwd\", file))\n",
    "    rwd_data[file].columns = [\n",
    "        afd_utils.clean_colname(c) for c in rwd_data[file].columns\n",
    "    ]\n",
    "\n",
    "rwd_results = pd.DataFrame()\n",
    "for file in filter(\n",
    "    lambda f: f.startswith(\"rwd_results_\") and f.endswith(\".csv\"),\n",
    "    os.listdir(results_path),\n",
    "):\n",
    "    rwd_results = pd.concat(\n",
    "        [rwd_results, pd.read_csv(os.path.join(results_path, file))]\n",
    "    )"
   ]
  },
  {
   "cell_type": "markdown",
   "id": "159f4bec",
   "metadata": {},
   "source": [
    "## table 3 - overview of relations in $RWD$"
   ]
  },
  {
   "cell_type": "code",
   "execution_count": null,
   "id": "502baa06",
   "metadata": {},
   "outputs": [],
   "source": [
    "name_mapping = {\n",
    "    \"adult.csv\": \"adultData\",\n",
    "    \"claims.csv\": \"claimsData\",\n",
    "    \"dblp10k.csv\": \"dblpData\",\n",
    "    \"hospital.csv\": \"hospitalData\",\n",
    "    \"tax.csv\": \"taxData\",\n",
    "    \"t_biocase_gathering_agent_r72738_c18.csv\": \"gathAgentData\",\n",
    "    \"t_biocase_gathering_namedareas_r137711_c11.csv\": \"gathAreaData\",\n",
    "    \"t_biocase_gathering_r90992_c35.csv\": \"gathData\",\n",
    "    \"t_biocase_identification_highertaxon_r562959_c3.csv\": \"identTaxonData\",\n",
    "    \"t_biocase_identification_r91800_c38.csv\": \"identData\",\n",
    "}\n",
    "data = {}\n",
    "for table, mapped_table in name_mapping.items():\n",
    "    df = rwd_data[table]\n",
    "    _results = rwd_results.query(\"table == @table\")\n",
    "    data[mapped_table] = {\n",
    "        \"rows\": df.shape[0],\n",
    "        \"attributes\": df.columns.size,\n",
    "        \"candFDs\": _results.query(\"g3_prime >= .5\").shape[0],\n",
    "        \"FDs\": _results.query(\"(exact_fd == True) & (afd == True)\").shape[0],\n",
    "        \"AFDs\": _results.query(\"(exact_fd == False) & (afd == True)\").shape[0],\n",
    "    }\n",
    "pd.DataFrame(data).T"
   ]
  },
  {
   "cell_type": "markdown",
   "id": "a2604280",
   "metadata": {},
   "source": [
    "## additional numbers reported in the paper"
   ]
  },
  {
   "cell_type": "code",
   "execution_count": null,
   "id": "aeda03af",
   "metadata": {},
   "outputs": [],
   "source": [
    "{\n",
    "    \"number of tables in RWD\": rwd_results[\"table\"].unique().size,\n",
    "    \"total number of column combinations\": rwd_results.shape[0],\n",
    "    \"number of non exact FDs\": rwd_results.query(\"(exact_fd == False)\").shape[0],\n",
    "    \"number of canidate FDs in RWD\": rwd_results.query(\"g3_prime >= .5\").shape[0],\n",
    "    \"ground truth size\": rwd_results.query(\"afd == True\").shape[0],\n",
    "    \"number of exact FDs in ground truth\": rwd_results.query(\n",
    "        \"(exact_fd == True) and (afd == True)\"\n",
    "    ).shape[0],\n",
    "    \"number of AFDs in ground truth\": rwd_results.query(\n",
    "        \"(exact_fd == False) and (afd == True)\"\n",
    "    ).shape[0],\n",
    "    \"number of measures\": len(afd_utils.measure_order),\n",
    "}"
   ]
  },
  {
   "cell_type": "code",
   "execution_count": null,
   "id": "cfffcfbd-bbaf-49ef-8d76-07493ab89f5a",
   "metadata": {},
   "outputs": [],
   "source": []
  }
 ],
 "metadata": {
  "kernelspec": {
   "display_name": "Python 3 (ipykernel)",
   "language": "python",
   "name": "python3"
  },
  "language_info": {
   "codemirror_mode": {
    "name": "ipython",
    "version": 3
   },
   "file_extension": ".py",
   "mimetype": "text/x-python",
   "name": "python",
   "nbconvert_exporter": "python",
   "pygments_lexer": "ipython3",
   "version": "3.11.0"
  }
 },
 "nbformat": 4,
 "nbformat_minor": 5
}
