{
 "cells": [
  {
   "cell_type": "markdown",
   "id": "94cae0f8",
   "metadata": {},
   "source": [
    "# Create overview tables of the data\n",
    "\n",
    "Create an overview of some metrics for all tables in RWD."
   ]
  },
  {
   "cell_type": "code",
   "execution_count": 1,
   "id": "22173111-acb6-4fe0-b920-be3c90eacdce",
   "metadata": {},
   "outputs": [
    {
     "name": "stderr",
     "output_type": "stream",
     "text": [
      "/tmp/b89db09dcb/ipykernel_16234/1070545907.py:16: DtypeWarning: Columns (3,12) have mixed types. Specify dtype option on import or set low_memory=False.\n",
      "  rwd_data[file] = pd.read_csv(os.path.join(data_path, \"rwd\", file))\n",
      "/tmp/b89db09dcb/ipykernel_16234/1070545907.py:16: DtypeWarning: Columns (34) have mixed types. Specify dtype option on import or set low_memory=False.\n",
      "  rwd_data[file] = pd.read_csv(os.path.join(data_path, \"rwd\", file))\n",
      "/tmp/b89db09dcb/ipykernel_16234/1070545907.py:16: DtypeWarning: Columns (6,35) have mixed types. Specify dtype option on import or set low_memory=False.\n",
      "  rwd_data[file] = pd.read_csv(os.path.join(data_path, \"rwd\", file))\n"
     ]
    }
   ],
   "source": [
    "import os\n",
    "import sys\n",
    "\n",
    "import pandas as pd\n",
    "\n",
    "# for Jupyter notebooks: add the path of 'code' to allow importing module\n",
    "sys.path.append(os.path.join(os.getcwd(), \"..\"))\n",
    "from afd_measures import utils as afd_utils\n",
    "\n",
    "data_path = \"../../data\"\n",
    "gt_path = \"../../data/ground_truth.csv\"\n",
    "results_path = \"../../results\"\n",
    "\n",
    "rwd_data = {}\n",
    "for file in filter(lambda f: f.endswith(\".csv\"), os.listdir(os.path.join(data_path, \"rwd\"))):\n",
    "    rwd_data[file] = pd.read_csv(os.path.join(data_path, \"rwd\", file))\n",
    "    rwd_data[file].columns = [\n",
    "        afd_utils.clean_colname(c) for c in rwd_data[file].columns\n",
    "    ]\n",
    "\n",
    "rwd_results = pd.DataFrame()\n",
    "for file in filter(\n",
    "    lambda f: f.startswith(\"rwd_results_\") and f.endswith(\".csv\"),\n",
    "    os.listdir(results_path),\n",
    "):\n",
    "    rwd_results = pd.concat(\n",
    "        [rwd_results, pd.read_csv(os.path.join(results_path, file))]\n",
    "    )"
   ]
  },
  {
   "cell_type": "markdown",
   "id": "159f4bec",
   "metadata": {},
   "source": [
    "## Create an overview table"
   ]
  },
  {
   "cell_type": "code",
   "execution_count": 3,
   "id": "502baa06",
   "metadata": {},
   "outputs": [],
   "source": [
    "name_mapping = {\n",
    "    \"adult.csv\": \"\\\\adultData\",\n",
    "    \"claims.csv\": \"\\\\claimsData\",\n",
    "    \"dblp10k.csv\": \"\\\\dblpData\",\n",
    "    \"hospital.csv\": \"\\\\hospitalData\",\n",
    "    \"tax.csv\": \"\\\\taxData\",\n",
    "    \"t_biocase_gathering_agent_r72738_c18.csv\": \"\\\\gathAgentData\",\n",
    "    \"t_biocase_gathering_namedareas_r137711_c11.csv\": \"\\\\gathAreaData\",\n",
    "    \"t_biocase_gathering_r90992_c35.csv\": \"\\\\gathData\",\n",
    "    \"t_biocase_identification_highertaxon_r562959_c3.csv\": \"\\\\identTaxonData\",\n",
    "    \"t_biocase_identification_r91800_c38.csv\": \"\\\\identData\",\n",
    "}\n",
    "data = {}\n",
    "for table in rwd_results.loc[:, \"table\"].unique():\n",
    "    df = rwd_data[table]\n",
    "    _results = rwd_results.query(\"table == @table\")\n",
    "    data[name_mapping[table]] = {\n",
    "        \"rows\": df.shape[0],\n",
    "        \"attributes\": df.columns.size,\n",
    "        \"candFDs\": _results.query(\"g3_prime >= .5\").shape[0],\n",
    "        \"FDs\": _results.query(\"(exact_fd == True) & (afd == True)\").shape[0],\n",
    "        \"AFDs\": _results.query(\"(exact_fd == False) & (afd == True)\").shape[0],\n",
    "    }\n",
    "pd.DataFrame(data).T.to_csv(\n",
    "    \"../../paper/table2_dataset_descriptions.csv\",\n",
    "    index_label=\"Relation R\",\n",
    ")"
   ]
  },
  {
   "cell_type": "markdown",
   "id": "a2604280",
   "metadata": {},
   "source": [
    "## Calculate counts"
   ]
  },
  {
   "cell_type": "code",
   "execution_count": 5,
   "id": "aeda03af",
   "metadata": {},
   "outputs": [
    {
     "data": {
      "text/plain": [
       "{'number of tables in RWD': 9,\n",
       " 'total number of column combinations': 1210,\n",
       " 'number of canidate FDs in RWD': 571,\n",
       " 'ground truth size': 66,\n",
       " 'number of exact FDs in ground truth': 51,\n",
       " 'number of AFDs in ground truth': 15,\n",
       " 'number of measures': 12,\n",
       " 'number of non exact FDs': 1024}"
      ]
     },
     "execution_count": 5,
     "metadata": {},
     "output_type": "execute_result"
    }
   ],
   "source": [
    "{\n",
    "    \"number of tables in RWD\": rwd_results[\"table\"].unique().size,\n",
    "    \"total number of column combinations\": rwd_results.shape[0],\n",
    "    \"number of canidate FDs in RWD\": rwd_results.query(\"g3_prime >= .5\").shape[0],\n",
    "    \"ground truth size\": rwd_results.query(\"afd == True\").shape[0],\n",
    "    \"number of exact FDs in ground truth\": rwd_results.query(\n",
    "        \"(exact_fd == True) and (afd == True)\"\n",
    "    ).shape[0],\n",
    "    \"number of AFDs in ground truth\": rwd_results.query(\n",
    "        \"(exact_fd == False) and (afd == True)\"\n",
    "    ).shape[0],\n",
    "    \"number of measures\": len(afd_utils.measure_order),\n",
    "    \"number of non exact FDs\": rwd_results.query(\"(exact_fd == False)\").shape[0],\n",
    "}"
   ]
  },
  {
   "cell_type": "code",
   "execution_count": null,
   "id": "1fb37a2a-bdec-446b-9283-b890b33b43a4",
   "metadata": {},
   "outputs": [],
   "source": []
  }
 ],
 "metadata": {
  "kernelspec": {
   "display_name": "Python 3 (ipykernel)",
   "language": "python",
   "name": "python3"
  },
  "language_info": {
   "codemirror_mode": {
    "name": "ipython",
    "version": 3
   },
   "file_extension": ".py",
   "mimetype": "text/x-python",
   "name": "python",
   "nbconvert_exporter": "python",
   "pygments_lexer": "ipython3",
   "version": "3.10.8"
  }
 },
 "nbformat": 4,
 "nbformat_minor": 5
}
