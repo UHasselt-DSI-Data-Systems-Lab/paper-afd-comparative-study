{
 "cells": [
  {
   "cell_type": "markdown",
   "id": "bbd23a5b-ecb9-49ae-a157-e0d583cf5bf9",
   "metadata": {},
   "source": [
    "# Rank @ max Recall\n",
    "\n",
    "Investigate the rank of each measure for which it reaches max recall for a table."
   ]
  },
  {
   "cell_type": "code",
   "execution_count": null,
   "id": "df643948-00c5-4315-bfb1-2bae38dc68bf",
   "metadata": {},
   "outputs": [],
   "source": [
    "import os\n",
    "import sys\n",
    "\n",
    "import pandas as pd\n",
    "\n",
    "# for Jupyter notebooks: add the path of 'code' to allow importing module\n",
    "sys.path.append(os.path.join(os.getcwd(), \"..\"))\n",
    "from afd_measures import utils as afd_utils\n",
    "\n",
    "\n",
    "rwd_results = pd.DataFrame()\n",
    "for file in filter(lambda f: f.startswith(\"rwd_results_\"), os.listdir(\"../../results\")):\n",
    "    df = pd.read_csv(os.path.join(\"../../results\", file))\n",
    "    rwd_results = pd.concat([rwd_results, df])\n",
    "rwd_results = rwd_results.reset_index(drop=True)\n",
    "rwd_minus = rwd_results[rwd_results[afd_utils.measure_order].notna().all(axis=\"columns\")].query(\"exact_fd == False\").copy() "
   ]
  },
  {
   "cell_type": "markdown",
   "id": "fd8e549a-0acd-45a5-a9ee-a3e5158ef498",
   "metadata": {},
   "source": [
    "## Figure 2 (b) - rank at max recall per measure per relation"
   ]
  },
  {
   "cell_type": "code",
   "execution_count": null,
   "id": "da4c6967-67ce-4ee7-a9c2-d30f1064a0b7",
   "metadata": {},
   "outputs": [],
   "source": [
    "name_mapping = {\n",
    "    \"adult.csv\": \"adultData\",\n",
    "    \"claims.csv\": \"claimsData\",\n",
    "    \"dblp10k.csv\": \"dblpData\",\n",
    "    \"hospital.csv\": \"hospitalData\",\n",
    "    \"tax.csv\": \"taxData\",\n",
    "    \"t_biocase_gathering_agent_r72738_c18.csv\": \"gathAgentData\",\n",
    "    \"t_biocase_gathering_namedareas_r137711_c11.csv\": \"gathAreaData\",\n",
    "    \"t_biocase_gathering_r90992_c35.csv\": \"gathData\",\n",
    "    \"t_biocase_identification_highertaxon_r562959_c3.csv\": \"identTaxonData\",\n",
    "    \"t_biocase_identification_r91800_c38.csv\": \"identData\",\n",
    "}\n",
    "\n",
    "rankAtMaxRecall = []\n",
    "eligible_tables = []\n",
    "afds_count = {\n",
    "    \"measure\": \"AFD(R)\"\n",
    "}\n",
    "\n",
    "for table in name_mapping.keys():\n",
    "    results_table = rwd_minus.query(\"table == @table\").copy()\n",
    "    afds = results_table.loc[:, \"afd\"]\n",
    "    if afds.any():\n",
    "        eligible_tables.append(table)\n",
    "        afds_count[table] = afds.value_counts()[True]\n",
    "rankAtMaxRecall.append(afds_count)\n",
    "\n",
    "for measure in afd_utils.measure_order:\n",
    "    ranks = {\n",
    "        \"measure\": measure,\n",
    "    }\n",
    "    for table in eligible_tables:\n",
    "        results_table = rwd_minus.query(\"table == @table\").copy()\n",
    "        ranked_table = results_table.loc[:, [measure, \"afd\"]].sort_values(\n",
    "            by=[measure, \"afd\"],\n",
    "            ascending=[False, True],\n",
    "        ).reset_index(\n",
    "            drop=True,\n",
    "        )\n",
    "        ranks[table] = ranked_table[ranked_table[\"afd\"]].iloc[-1].name + 1\n",
    "    rankAtMaxRecall.append(ranks)\n",
    "\n",
    "rankAtMaxRecall = pd.DataFrame(rankAtMaxRecall).set_index(\"measure\")\n",
    "rankAtMaxRecall.rename(index=afd_utils.measure_map, columns=name_mapping)"
   ]
  },
  {
   "cell_type": "code",
   "execution_count": null,
   "id": "0e251fcd-b1b6-4297-af6a-c40ac704ec23",
   "metadata": {},
   "outputs": [],
   "source": []
  }
 ],
 "metadata": {
  "kernelspec": {
   "display_name": "Python 3 (ipykernel)",
   "language": "python",
   "name": "python3"
  },
  "language_info": {
   "codemirror_mode": {
    "name": "ipython",
    "version": 3
   },
   "file_extension": ".py",
   "mimetype": "text/x-python",
   "name": "python",
   "nbconvert_exporter": "python",
   "pygments_lexer": "ipython3",
   "version": "3.11.0"
  }
 },
 "nbformat": 4,
 "nbformat_minor": 5
}
