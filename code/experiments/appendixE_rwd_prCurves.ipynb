{
 "cells": [
  {
   "cell_type": "markdown",
   "id": "94cae0f8",
   "metadata": {},
   "source": [
    "# Precision Recall curves on RWD$^-$\n",
    "\n",
    "Create precision recall curves for each measure on RWD$^-$, which are the basis to calculate the AUCs found in the main part of the paper."
   ]
  },
  {
   "cell_type": "code",
   "execution_count": null,
   "id": "6cec0ab5",
   "metadata": {},
   "outputs": [],
   "source": [
    "import os\n",
    "import sys\n",
    "\n",
    "import pandas as pd\n",
    "\n",
    "# for Jupyter notebooks: add the path of 'code' to allow importing module\n",
    "sys.path.append(os.path.join(os.getcwd(), \"..\"))\n",
    "from afd_measures import utils as afd_utils\n",
    "\n",
    "results_path = \"../../results\"\n",
    "\n",
    "rwd_results = pd.DataFrame()\n",
    "for file in filter(\n",
    "    lambda f: f.startswith(\"rwd_results_\") and f.endswith(\".csv\"),\n",
    "    os.listdir(results_path),\n",
    "):\n",
    "    rwd_results = pd.concat(\n",
    "        [rwd_results, pd.read_csv(os.path.join(results_path, file))]\n",
    "    )\n",
    "\n",
    "rwd_minus = rwd_results[rwd_results[afd_utils.measure_order].notna().all(axis=\"columns\")].query(\"exact_fd == False\").copy()"
   ]
  },
  {
   "cell_type": "code",
   "execution_count": null,
   "id": "546d8512-f54c-4c17-ac4d-eab1b2e4e85c",
   "metadata": {},
   "outputs": [],
   "source": [
    "from typing import Dict\n",
    "\n",
    "import numpy as np\n",
    "from sklearn.metrics import precision_recall_curve\n",
    "\n",
    "\n",
    "def make_pr_data(dataset: pd.DataFrame, y_true_key: str) -> Dict[str, pd.DataFrame]:\n",
    "    \"\"\"A simple method to create the data needed for plotting.\"\"\"\n",
    "    result_dfs = {}\n",
    "    for measure in afd_utils.measure_order:\n",
    "        # calculate recall and precision curve values\n",
    "        df = dataset.query(f\"{measure}.notna()\").copy()\n",
    "        precision, recall, threshold = precision_recall_curve(\n",
    "            df.loc[:, y_true_key], df.loc[:, measure]\n",
    "        )\n",
    "        result_dfs[measure] = pd.DataFrame(\n",
    "            {\n",
    "                \"precision\": precision,\n",
    "                \"recall\": recall,\n",
    "            },\n",
    "            index=np.append(threshold, 2.0),\n",
    "        )\n",
    "\n",
    "    return result_dfs"
   ]
  },
  {
   "cell_type": "markdown",
   "id": "0779eb8d-3b1d-4a58-910a-f8a1926fbe39",
   "metadata": {},
   "source": [
    "## Figure 4 - precision recall curves on RWD$^-$"
   ]
  },
  {
   "cell_type": "code",
   "execution_count": null,
   "id": "01d17035",
   "metadata": {},
   "outputs": [],
   "source": [
    "plot_data = make_pr_data(rwd_minus, \"afd\")\n",
    "for measure, df in plot_data.items():\n",
    "    df.to_csv(\n",
    "        f\"../../paper/rwd_prcurve_{measure}.dat\", sep=\"\\t\", index_label=\"threshold\"\n",
    "    )"
   ]
  },
  {
   "cell_type": "code",
   "execution_count": null,
   "id": "52ab7e0c-b543-400d-b711-0a6393a10ad8",
   "metadata": {},
   "outputs": [],
   "source": []
  }
 ],
 "metadata": {
  "kernelspec": {
   "display_name": "Python 3 (ipykernel)",
   "language": "python",
   "name": "python3"
  },
  "language_info": {
   "codemirror_mode": {
    "name": "ipython",
    "version": 3
   },
   "file_extension": ".py",
   "mimetype": "text/x-python",
   "name": "python",
   "nbconvert_exporter": "python",
   "pygments_lexer": "ipython3",
   "version": "3.11.0"
  }
 },
 "nbformat": 4,
 "nbformat_minor": 5
}
