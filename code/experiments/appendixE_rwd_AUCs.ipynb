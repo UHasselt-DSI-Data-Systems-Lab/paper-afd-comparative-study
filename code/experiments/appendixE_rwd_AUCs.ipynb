{
 "cells": [
  {
   "cell_type": "markdown",
   "id": "f816aedb-fa40-4949-8049-b4a128eee256",
   "metadata": {},
   "source": [
    "# PR-AUCs of RWD\n",
    "\n",
    "Get and format the data for Table 5, AUCs on RWD; used to compare against RWD$^-$ discussed in the main part of the paper."
   ]
  },
  {
   "cell_type": "code",
   "execution_count": null,
   "id": "bf8aa27f-93d1-43c8-90b2-c9bfd8a62b7d",
   "metadata": {
    "tags": []
   },
   "outputs": [],
   "source": [
    "import os\n",
    "import sys\n",
    "\n",
    "import pandas as pd\n",
    "from sklearn.metrics import auc, precision_recall_curve\n",
    "\n",
    "# for Jupyter notebooks: add the path of 'code' to allow importing module\n",
    "sys.path.append(os.path.join(os.getcwd(), \"..\"))\n",
    "from afd_measures import utils as afd_utils\n",
    "\n",
    "results_path = \"../../results\"\n",
    "\n",
    "rwd_results = pd.DataFrame()\n",
    "for file in filter(\n",
    "    lambda f: f.startswith(\"rwd_results_\") and f.endswith(\".csv\"),\n",
    "    os.listdir(results_path),\n",
    "):\n",
    "    rwd_results = pd.concat(\n",
    "        [rwd_results, pd.read_csv(os.path.join(results_path, file))]\n",
    "    )"
   ]
  },
  {
   "cell_type": "markdown",
   "id": "02cb3946-0662-4cc6-94a2-af634bab2539",
   "metadata": {},
   "source": [
    "## Figure 5 - PR-AUCs per relation on RWD"
   ]
  },
  {
   "cell_type": "code",
   "execution_count": null,
   "id": "b9d3ed5f-9e0c-41a7-97e0-d018f0b56469",
   "metadata": {},
   "outputs": [],
   "source": [
    "name_mapping = {\n",
    "    \"adult.csv\": \"adultData\",\n",
    "    \"claims.csv\": \"claimsData\",\n",
    "    \"dblp10k.csv\": \"dblpData\",\n",
    "    \"hospital.csv\": \"hospitalData\",\n",
    "    \"tax.csv\": \"taxData\",\n",
    "    \"t_biocase_gathering_agent_r72738_c18.csv\": \"gathAgentData\",\n",
    "    \"t_biocase_gathering_namedareas_r137711_c11.csv\": \"gathAreaData\",\n",
    "    \"t_biocase_gathering_r90992_c35.csv\": \"gathData\",\n",
    "    \"t_biocase_identification_highertaxon_r562959_c3.csv\": \"identTaxonData\",\n",
    "    \"t_biocase_identification_r91800_c38.csv\": \"identData\",\n",
    "}\n",
    "\n",
    "table_aucs = []\n",
    "for measure in afd_utils.measure_order:\n",
    "    aucs = { \"measure\": measure }\n",
    "    measure_results = rwd_results.query(f\"(exact_fd == False) & {measure}.notna()\").copy()\n",
    "    precision, recall, _ = precision_recall_curve(\n",
    "        y_true = measure_results.loc[:, \"afd\"], probas_pred = measure_results.loc[:, measure]\n",
    "    )\n",
    "    _auc = auc(recall, precision)\n",
    "    aucs[\"RWD\"] = round(_auc, 3)\n",
    "    for table in name_mapping.keys():\n",
    "        _df = measure_results.query(f\"table == @table\").copy()\n",
    "        if not _df[\"afd\"].any():\n",
    "            aucs[table] = 1.0\n",
    "        else:\n",
    "            precision, recall, _ = precision_recall_curve(\n",
    "                y_true = _df.loc[:, \"afd\"], probas_pred = _df.loc[:, measure]\n",
    "            )\n",
    "            _auc = auc(recall, precision)\n",
    "            aucs[table] = round(_auc, 3)\n",
    "    table_aucs.append(aucs)\n",
    "\n",
    "table_aucs = pd.DataFrame(table_aucs).set_index(\"measure\", drop=True).rename(index=afd_utils.measure_map, columns=name_mapping)\n",
    "max_values = table_aucs.iloc[:, 1:].max()\n",
    "table_aucs[\"best %\"] = (table_aucs.iloc[:, 1:].apply(lambda row: (row - max_values == 0).value_counts()[True], axis=\"columns\") / max_values.count() * 100).astype(int)\n",
    "table_aucs"
   ]
  },
  {
   "cell_type": "code",
   "execution_count": null,
   "id": "dbb80286-7773-4c28-847c-b5e908a17a12",
   "metadata": {},
   "outputs": [],
   "source": []
  }
 ],
 "metadata": {
  "kernelspec": {
   "display_name": "Python 3 (ipykernel)",
   "language": "python",
   "name": "python3"
  },
  "language_info": {
   "codemirror_mode": {
    "name": "ipython",
    "version": 3
   },
   "file_extension": ".py",
   "mimetype": "text/x-python",
   "name": "python",
   "nbconvert_exporter": "python",
   "pygments_lexer": "ipython3",
   "version": "3.11.0"
  }
 },
 "nbformat": 4,
 "nbformat_minor": 5
}
