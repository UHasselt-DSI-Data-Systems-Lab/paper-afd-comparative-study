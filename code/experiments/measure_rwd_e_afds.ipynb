{
 "cells": [
  {
   "cell_type": "markdown",
   "id": "d6d90b37-bae0-4ba7-b1c2-86e37ecb4f56",
   "metadata": {},
   "source": [
    "# AFD measurements\n",
    "\n",
    "In this notebook, we apply all AFD measures to the RWD$^e$ dataset.\n",
    "\n",
    "## Setup\n",
    "First, load all the files from the RWD dataset. Futhermore, set some configuration parameters if running on an HPC cluster."
   ]
  },
  {
   "cell_type": "code",
   "execution_count": null,
   "id": "46adb2d9",
   "metadata": {},
   "outputs": [],
   "source": [
    "import os\n",
    "import sys\n",
    "\n",
    "import pandas as pd\n",
    "\n",
    "# for Jupyter notebooks: add the path of 'code' to allow importing module\n",
    "sys.path.append(os.path.join(os.getcwd(), \"..\"))\n",
    "from afd_measures import utils as afd_utils\n",
    "\n",
    "data_path = \"../../data/rwd_e\"\n",
    "gt_path = \"../../data/ground_truth.csv\"\n",
    "results_path = \"../../results\"\n",
    "# batch_i is used to parallelize measuring datasets on the HPC cluster\n",
    "batch_i = int(os.getenv(\"PBS_ARRAYID\", 0))\n",
    "# workers is used to parallelize measuring candidate FDs using joblib\n",
    "workers = int(os.getenv(\"PBS_NUM_PPN\", 1))\n",
    "total_batches = 1  # total number of batches that will be run on the HPC\n",
    "\n",
    "rwd_e_data = {}\n",
    "for i, file in enumerate(filter(lambda f: f.endswith(\".csv\"), os.listdir(data_path))):\n",
    "    if i % total_batches != batch_i:\n",
    "        continue\n",
    "    rwd_e_data[file] = pd.read_csv(os.path.join(data_path, file))\n",
    "    rwd_e_data[file].columns = [\n",
    "        afd_utils.clean_colname(c) for c in rwd_e_data[file].columns\n",
    "    ]"
   ]
  },
  {
   "cell_type": "markdown",
   "id": "38e2f128-8d14-46a8-b72e-680891e3d058",
   "metadata": {},
   "source": [
    "## Calculate measures\n",
    "\n",
    "After setup has been done, calculate the measures. The output dataframe will be written to the results for each batch."
   ]
  },
  {
   "cell_type": "code",
   "execution_count": null,
   "id": "49c30705",
   "metadata": {},
   "outputs": [],
   "source": [
    "import itertools\n",
    "\n",
    "import pandas as pd\n",
    "import tqdm\n",
    "\n",
    "from afd_measures import utils as afd_utils\n",
    "\n",
    "rwd_e_results = []\n",
    "for args in tqdm.tqdm(\n",
    "    [\n",
    "        (df, table, lhs, rhs, afd_utils.measure_order)\n",
    "        for table, df in rwd_e_data.items()\n",
    "        for lhs, rhs in itertools.permutations(df.columns, 2)\n",
    "    ]\n",
    "):\n",
    "    rwd_e_results.append(afd_utils.parallelize_measuring(*args))\n",
    "# filter out the empty candidate FDs\n",
    "rwd_e_results_df = pd.DataFrame(rwd_e_results)\n",
    "if \"empty\" in rwd_e_results_df.columns:\n",
    "    rwd_e_results_df = rwd_e_results_df.query(\"empty != True\").drop(columns=[\"empty\"])\n",
    "\n",
    "# add the ground truth to the dataframe\n",
    "ground_truth = pd.read_csv(gt_path)\n",
    "ground_truth[\"afd\"] = True\n",
    "rwd_e_results_df = rwd_e_results_df.merge(\n",
    "    ground_truth, on=[\"table\", \"lhs\", \"rhs\"], low=\"left\"\n",
    ")\n",
    "rwd_e_results_df[\"afd\"] = rwd_e_results_df[\"afd\"].fillna(False)\n",
    "\n",
    "# add the polluted fds to the dataframe\n",
    "fds_to_pollute = pd.read_csv(os.path.join(results_path, \"fds_to_pollute.csv\"))\n",
    "for side in (\"lhs\", \"rhs\"):\n",
    "    polluted = fds_to_pollute.loc[:, [\"table\", \"rhs\"]].drop_duplicates().copy()\n",
    "    polluted.columns = [\"table\", side]\n",
    "    polluted[f\"{side}_polluted\"] = True\n",
    "    rwd_e_results_df = rwd_e_results_df.merge(polluted, on=[\"table\", side], how=\"left\")\n",
    "    rwd_e_results_df[f\"{side}_polluted\"] = rwd_e_results_df[f\"{side}_polluted\"].fillna(\n",
    "        False\n",
    "    )\n",
    "\n",
    "fds_to_pollute[\"fd_polluted\"] = True\n",
    "rwd_e_results_df = rwd_e_results_df.merge(\n",
    "    fds_to_pollute, on=[\"table\", \"lhs\", \"rhs\"], how=\"left\"\n",
    ")\n",
    "rwd_e_results_df[\"fd_polluted\"] = rwd_e_results_df[\"fd_polluted\"].fillna(False)\n",
    "\n",
    "rwd_e_results_df.to_csv(\n",
    "    os.path.join(results_path, f\"rwd_e_results_{batch_i}.csv\"), index=False\n",
    ")"
   ]
  }
 ],
 "metadata": {
  "jupytext": {
   "cell_metadata_filter": "-all",
   "main_language": "python",
   "notebook_metadata_filter": "-all"
  },
  "kernelspec": {
   "display_name": "Python 3 (ipykernel)",
   "language": "python",
   "name": "python3"
  },
  "language_info": {
   "codemirror_mode": {
    "name": "ipython",
    "version": 3
   },
   "file_extension": ".py",
   "mimetype": "text/x-python",
   "name": "python",
   "nbconvert_exporter": "python",
   "pygments_lexer": "ipython3",
   "version": "3.11.0"
  }
 },
 "nbformat": 4,
 "nbformat_minor": 5
}
