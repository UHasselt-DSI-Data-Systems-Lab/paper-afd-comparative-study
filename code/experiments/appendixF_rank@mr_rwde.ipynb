{
 "cells": [
  {
   "cell_type": "markdown",
   "id": "fc7cf45e-d852-4735-955b-8420d8311a76",
   "metadata": {},
   "source": [
    "# Rank @ max recall for RWD$^e$\n",
    "\n",
    "Investigate the rank of each measure for which it reaches max recall for a table in RWD$^e$."
   ]
  },
  {
   "cell_type": "code",
   "execution_count": null,
   "id": "202178ec-195a-49fd-9a82-4361628d8544",
   "metadata": {},
   "outputs": [],
   "source": [
    "import os\n",
    "import sys\n",
    "\n",
    "import numpy as np\n",
    "import pandas as pd\n",
    "\n",
    "# for Jupyter notebooks: add the path of 'code' to allow importing module\n",
    "sys.path.append(os.path.join(os.getcwd(), \"..\"))\n",
    "from afd_measures import utils as afd_utils\n",
    "\n",
    "name_mapping = {\n",
    "    \"adult.csv\": \"adultData\",\n",
    "    \"claims.csv\": \"claimsData\",\n",
    "    \"dblp10k.csv\": \"dblpData\",\n",
    "    \"hospital.csv\": \"hospitalData\",\n",
    "    \"tax.csv\": \"taxData\",\n",
    "    \"t_biocase_gathering_agent_r72738_c18.csv\": \"gathAgentData\",\n",
    "    \"t_biocase_gathering_namedareas_r137711_c11.csv\": \"gathAreaData\",\n",
    "    \"t_biocase_gathering_r90992_c35.csv\": \"gathData\",\n",
    "    \"t_biocase_identification_highertaxon_r562959_c3.csv\": \"identTaxonData\",\n",
    "    \"t_biocase_identification_r91800_c38.csv\": \"identData\",\n",
    "}\n",
    "\n",
    "rwd_e_results = pd.DataFrame()\n",
    "\n",
    "for file in filter(\n",
    "    lambda f: f.startswith(\"rwd_e_results_\"), os.listdir(\"../../results\")\n",
    "):\n",
    "    df = pd.read_csv(os.path.join(\"../../results\", file))\n",
    "    rwd_e_results = pd.concat([rwd_e_results, df])\n",
    "rwd_e_results = rwd_e_results.reset_index(drop=True)\n",
    "rwd_e_results[\"polluted_afd\"] = rwd_e_results[\"afd\"] | rwd_e_results[\"fd_polluted\"]"
   ]
  },
  {
   "cell_type": "markdown",
   "id": "817fc64a-8e60-4b34-b459-2e109fec8eb0",
   "metadata": {},
   "source": [
    "## table 7 - percentages of tables won per noise type"
   ]
  },
  {
   "cell_type": "code",
   "execution_count": null,
   "id": "3c9ca28b-969a-409f-b92c-6d175aa0743e",
   "metadata": {},
   "outputs": [],
   "source": [
    "rankAtMaxRecall = []\n",
    "for noise_type in (\"copy\", \"bogus\", \"typo\"):\n",
    "    for noise_level in (0.01, 0.02, 0.05, 0.1):\n",
    "        results_typeLevel = rwd_e_results.query(\n",
    "            \"(exact_fd == False) & (noise_type == @noise_type) & (noise_level == @noise_level)\"\n",
    "        ).copy()\n",
    "        results_typeLevel = results_typeLevel[\n",
    "            results_typeLevel[afd_utils.measure_order].notna().all(axis=\"columns\")\n",
    "        ]\n",
    "        for table in results_typeLevel.loc[\n",
    "            results_typeLevel[\"polluted_afd\"], \"table\"\n",
    "        ].unique():\n",
    "            results_table = results_typeLevel.query(\"table == @table\").copy()\n",
    "            afds_table = results_table[results_table[\"polluted_afd\"]].copy()\n",
    "            measure_ranks = {}\n",
    "            for measure in afd_utils.measure_order:\n",
    "                measure_ranks[measure] = results_table[\n",
    "                    results_table[measure] >= afds_table[measure].min()\n",
    "                ].shape[0]\n",
    "            measure_ranks = pd.Series(measure_ranks)\n",
    "            for measure in measure_ranks[measure_ranks == measure_ranks.min()].index:\n",
    "                rankAtMaxRecall.append({\n",
    "                    \"table\": table,\n",
    "                    \"noise_type\": noise_type,\n",
    "                    \"noise_level\": noise_level,\n",
    "                    \"measure\": measure,\n",
    "                    \"win\": 1,\n",
    "                })\n",
    "\n",
    "rankAtMaxRecall = pd.DataFrame(rankAtMaxRecall)\n",
    "\n",
    "(\n",
    "    pd.pivot_table(\n",
    "        rankAtMaxRecall,\n",
    "        values=\"win\",\n",
    "        columns=\"noise_type\",\n",
    "        index=\"measure\",\n",
    "        aggfunc=np.sum,\n",
    "    ).loc[\n",
    "        afd_utils.measure_order, [\"copy\", \"bogus\", \"typo\"]\n",
    "    ].fillna(0.0).rename(index=afd_utils.measure_map)\n",
    ") / (\n",
    "    rankAtMaxRecall.groupby(\n",
    "        by=[\"noise_type\",\"noise_level\",\"table\"]\n",
    "    ).count().groupby(by=[\"noise_type\"]).count().iloc[:, 1].loc[[\"copy\", \"bogus\", \"typo\"]]\n",
    ")"
   ]
  },
  {
   "cell_type": "code",
   "execution_count": null,
   "id": "05e998b1-e80b-4494-8b60-84345afab9fd",
   "metadata": {},
   "outputs": [],
   "source": []
  }
 ],
 "metadata": {
  "kernelspec": {
   "display_name": "Python 3 (ipykernel)",
   "language": "python",
   "name": "python3"
  },
  "language_info": {
   "codemirror_mode": {
    "name": "ipython",
    "version": 3
   },
   "file_extension": ".py",
   "mimetype": "text/x-python",
   "name": "python",
   "nbconvert_exporter": "python",
   "pygments_lexer": "ipython3",
   "version": "3.11.0"
  }
 },
 "nbformat": 4,
 "nbformat_minor": 5
}
