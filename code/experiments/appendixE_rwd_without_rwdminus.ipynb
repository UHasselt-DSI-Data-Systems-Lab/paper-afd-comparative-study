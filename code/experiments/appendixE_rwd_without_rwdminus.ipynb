{
 "cells": [
  {
   "cell_type": "markdown",
   "id": "507a62b1-ef6a-4d60-807d-5195c888d9f4",
   "metadata": {},
   "source": [
    "# RWD \\ RWD$^-$\n",
    "\n",
    "Investigate the properties of all candidates in RWD that could not be calculated in time by $\\text{RFI}^+$ and $\\text{RFI}^{'+}$."
   ]
  },
  {
   "cell_type": "code",
   "execution_count": null,
   "id": "d72e6c88-358c-46a7-9d36-42ad56f6de05",
   "metadata": {},
   "outputs": [],
   "source": [
    "import os\n",
    "import sys\n",
    "\n",
    "import pandas as pd\n",
    "\n",
    "# for Jupyter notebooks: add the path of 'code' to allow importing module\n",
    "sys.path.append(os.path.join(os.getcwd(), \"..\"))\n",
    "from afd_measures import utils as afd_utils\n",
    "from synthetic_data import inferrence as syn_inferrence\n",
    "from synthetic_data import utils as syn_utils\n",
    "\n",
    "data_path = \"../../data/rwd\"\n",
    "results_path = \"../../results\"\n",
    "\n",
    "rwd_data = {}\n",
    "for file in os.listdir(data_path):\n",
    "    rwd_data[file] = pd.read_csv(os.path.join(data_path, file))\n",
    "    rwd_data[file].columns = [afd_utils.clean_colname(c) for c in rwd_data[file].columns]\n",
    "\n",
    "rwd_results = pd.DataFrame()\n",
    "for file in filter(\n",
    "    lambda f: f.startswith(\"rwd_results_\") and f.endswith(\".csv\"),\n",
    "    os.listdir(results_path),\n",
    "):\n",
    "    rwd_results = pd.concat(\n",
    "        [rwd_results, pd.read_csv(os.path.join(results_path, file))]\n",
    "    )\n",
    "\n",
    "missing_candidates = rwd_results.query(\n",
    "    \"exact_fd == False\"\n",
    ").query(\n",
    "    \"reliable_fraction_of_information_plus.isna()\"\n",
    ").copy()"
   ]
  },
  {
   "cell_type": "markdown",
   "id": "d687341b-c0cd-4928-94c7-c3604781422e",
   "metadata": {},
   "source": [
    "## Table 6, upper part - descriptive statistics of candidates missing at RFI"
   ]
  },
  {
   "cell_type": "code",
   "execution_count": null,
   "id": "5af2c037-0085-4193-8c54-128315fb0dcf",
   "metadata": {},
   "outputs": [],
   "source": [
    "missing_candidates[afd_utils.measure_order].describe().loc[[\"mean\", \"std\", \"min\", \"50%\", \"max\"], :].rename(columns=afd_utils.measure_map).T"
   ]
  },
  {
   "cell_type": "code",
   "execution_count": null,
   "id": "389a3d05-d1a6-4272-a61e-495c69460973",
   "metadata": {},
   "outputs": [],
   "source": [
    "# add LHS uniqueness and RHS skew to the results\n",
    "missing_candidates[\n",
    "    [\n",
    "        \"tuples\",\n",
    "        \"lhs_cardinality\",\n",
    "        \"rhs_cardinality\",\n",
    "        \"lhs_dist_alpha\",\n",
    "        \"lhs_dist_beta\",\n",
    "        \"rhs_dist_alpha\",\n",
    "        \"rhs_dist_beta\",\n",
    "        \"noise\",\n",
    "    ]\n",
    "] = missing_candidates.apply(\n",
    "    lambda row: syn_inferrence.infer_settings(\n",
    "        rwd_data[row[\"table\"]].loc[:, [row[\"lhs\"], row[\"rhs\"]]],\n",
    "        noise=False,\n",
    "    ),\n",
    "    axis=\"columns\",\n",
    "    result_type=\"expand\",\n",
    ")\n",
    "\n",
    "missing_candidates[\"lhs_uniqueness\"] = missing_candidates[\"lhs_cardinality\"] / missing_candidates[\"tuples\"]\n",
    "missing_candidates[\"rhs_skewness\"] = missing_candidates.apply(\n",
    "    lambda row: syn_utils.beta_skewness(\n",
    "        row[\"rhs_dist_alpha\"], row[\"rhs_dist_beta\"]\n",
    "    ),\n",
    "    axis=\"columns\",\n",
    ")\n",
    "\n",
    "missing_candidates.loc[\n",
    "    :, [\"tuples\", \"lhs_uniqueness\", \"rhs_skewness\"]\n",
    "].describe().T.loc[\n",
    "    :, [\"mean\", \"std\", \"min\", \"50%\", \"max\"]\n",
    "]"
   ]
  },
  {
   "cell_type": "code",
   "execution_count": null,
   "id": "9cffc974-6d6d-4b72-9fdf-8c5e56305e39",
   "metadata": {},
   "outputs": [],
   "source": []
  }
 ],
 "metadata": {
  "kernelspec": {
   "display_name": "Python 3 (ipykernel)",
   "language": "python",
   "name": "python3"
  },
  "language_info": {
   "codemirror_mode": {
    "name": "ipython",
    "version": 3
   },
   "file_extension": ".py",
   "mimetype": "text/x-python",
   "name": "python",
   "nbconvert_exporter": "python",
   "pygments_lexer": "ipython3",
   "version": "3.11.0"
  }
 },
 "nbformat": 4,
 "nbformat_minor": 5
}
