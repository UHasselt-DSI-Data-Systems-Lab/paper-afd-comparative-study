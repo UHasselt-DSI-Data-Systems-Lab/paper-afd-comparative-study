{
 "cells": [
  {
   "cell_type": "markdown",
   "id": "94cae0f8",
   "metadata": {},
   "source": [
    "# Create PR Curves"
   ]
  },
  {
   "cell_type": "markdown",
   "id": "93b53b1b",
   "metadata": {},
   "source": [
    "## Load the data\n",
    "Load both, the datasets themselves as well as the results of the AFD measures."
   ]
  },
  {
   "cell_type": "code",
   "execution_count": 1,
   "id": "6cec0ab5",
   "metadata": {},
   "outputs": [
    {
     "name": "stderr",
     "output_type": "stream",
     "text": [
      "/tmp/5a90c4f918/ipykernel_22579/1363076546.py:18: DtypeWarning: Columns (3,12) have mixed types. Specify dtype option on import or set low_memory=False.\n",
      "  rwd_data[file] = pd.read_csv(os.path.join(data_path, \"rwd\", file))\n",
      "/tmp/5a90c4f918/ipykernel_22579/1363076546.py:18: DtypeWarning: Columns (34) have mixed types. Specify dtype option on import or set low_memory=False.\n",
      "  rwd_data[file] = pd.read_csv(os.path.join(data_path, \"rwd\", file))\n",
      "/tmp/5a90c4f918/ipykernel_22579/1363076546.py:18: DtypeWarning: Columns (6,35) have mixed types. Specify dtype option on import or set low_memory=False.\n",
      "  rwd_data[file] = pd.read_csv(os.path.join(data_path, \"rwd\", file))\n"
     ]
    }
   ],
   "source": [
    "import os\n",
    "import sys\n",
    "\n",
    "import pandas as pd\n",
    "\n",
    "# for Jupyter notebooks: add the path of 'code' to allow importing module\n",
    "sys.path.append(os.path.join(os.getcwd(), \"..\"))\n",
    "from afd_measures import utils as afd_utils\n",
    "\n",
    "data_path = \"../../data\"\n",
    "gt_path = \"../../data/ground_truth.csv\"\n",
    "results_path = \"../../results\"\n",
    "\n",
    "rwd_data = {}\n",
    "for file in filter(\n",
    "    lambda f: f.endswith(\".csv\"), os.listdir(os.path.join(data_path, \"rwd\"))\n",
    "):\n",
    "    rwd_data[file] = pd.read_csv(os.path.join(data_path, \"rwd\", file))\n",
    "    rwd_data[file].columns = [\n",
    "        afd_utils.clean_colname(c) for c in rwd_data[file].columns\n",
    "    ]\n",
    "\n",
    "rwd_results = pd.DataFrame()\n",
    "for file in filter(\n",
    "    lambda f: f.startswith(\"rwd_results_\") and f.endswith(\".csv\"),\n",
    "    os.listdir(results_path),\n",
    "):\n",
    "    rwd_results = pd.concat(\n",
    "        [rwd_results, pd.read_csv(os.path.join(results_path, file))]\n",
    "    )"
   ]
  },
  {
   "cell_type": "markdown",
   "id": "159f4bec",
   "metadata": {},
   "source": [
    "## Create plotting data\n",
    "\n",
    "This will create a file to plot."
   ]
  },
  {
   "cell_type": "code",
   "execution_count": 2,
   "id": "546d8512-f54c-4c17-ac4d-eab1b2e4e85c",
   "metadata": {},
   "outputs": [],
   "source": [
    "from typing import Dict\n",
    "\n",
    "import numpy as np\n",
    "import pandas as pd\n",
    "from sklearn.metrics import precision_recall_curve\n",
    "\n",
    "from afd_measures import utils as afd_utils\n",
    "\n",
    "\n",
    "def make_pr_data(dataset: pd.DataFrame, y_true_key: str) -> Dict[str, pd.DataFrame]:\n",
    "    result_dfs = {}\n",
    "    for measure in afd_utils.measure_order:\n",
    "        # calculate recall and precision curve values\n",
    "        df = dataset.query(f\"{measure}.notna()\").copy()\n",
    "        precision, recall, threshold = precision_recall_curve(\n",
    "            df.loc[:, y_true_key], df.loc[:, measure]\n",
    "        )\n",
    "        result_dfs[measure] = pd.DataFrame(\n",
    "            {\n",
    "                \"precision\": precision,\n",
    "                \"recall\": recall,\n",
    "            },\n",
    "            index=np.append(threshold, 2.0),\n",
    "        )\n",
    "\n",
    "    return result_dfs"
   ]
  },
  {
   "cell_type": "code",
   "execution_count": 3,
   "id": "01d17035",
   "metadata": {},
   "outputs": [],
   "source": [
    "_rwd = rwd_results.query(\"trivial_fd == False\").copy()\n",
    "plot_data = make_pr_data(_rwd.query(\"exact_fd == False\"), \"afd\")\n",
    "for measure, df in plot_data.items():\n",
    "    df.to_csv(\n",
    "        f\"../../paper/figure1_rwd_{measure}.dat\", sep=\"\\t\", index_label=\"threshold\"\n",
    "    )"
   ]
  },
  {
   "cell_type": "code",
   "execution_count": null,
   "id": "52ab7e0c-b543-400d-b711-0a6393a10ad8",
   "metadata": {},
   "outputs": [],
   "source": []
  }
 ],
 "metadata": {
  "kernelspec": {
   "display_name": "Python 3 (ipykernel)",
   "language": "python",
   "name": "python3"
  },
  "language_info": {
   "codemirror_mode": {
    "name": "ipython",
    "version": 3
   },
   "file_extension": ".py",
   "mimetype": "text/x-python",
   "name": "python",
   "nbconvert_exporter": "python",
   "pygments_lexer": "ipython3",
   "version": "3.10.8"
  }
 },
 "nbformat": 4,
 "nbformat_minor": 5
}
