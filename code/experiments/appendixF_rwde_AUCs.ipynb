{
 "cells": [
  {
   "cell_type": "markdown",
   "id": "94cae0f8",
   "metadata": {},
   "source": [
    "# PR-AUCs of RWD$^e$\n",
    "\n",
    "Get and format the data for Table 8, AUC on RWD$^e$."
   ]
  },
  {
   "cell_type": "code",
   "execution_count": null,
   "id": "24531dee-0b0a-4142-a625-8aabfea8c606",
   "metadata": {
    "tags": []
   },
   "outputs": [],
   "source": [
    "import os\n",
    "import sys\n",
    "\n",
    "import pandas as pd\n",
    "from sklearn.metrics import auc, precision_recall_curve\n",
    "\n",
    "# for Jupyter notebooks: add the path of 'code' to allow importing module\n",
    "sys.path.append(os.path.join(os.getcwd(), \"..\"))\n",
    "from afd_measures import utils as afd_utils\n",
    "\n",
    "results_path = \"../../results\"\n",
    "\n",
    "rwd_results = pd.DataFrame()\n",
    "for file in filter(\n",
    "    lambda f: f.startswith(\"rwd_results_\") and f.endswith(\".csv\"),\n",
    "    os.listdir(results_path),\n",
    "):\n",
    "    rwd_results = pd.concat(\n",
    "        [rwd_results, pd.read_csv(os.path.join(results_path, file))]\n",
    "    )\n",
    "\n",
    "rwd_polluted_results = pd.DataFrame()\n",
    "for file in filter(\n",
    "    lambda f: f.startswith(\"rwd_e_results_\") and f.endswith(\".csv\"),\n",
    "    os.listdir(results_path),\n",
    "):\n",
    "    rwd_polluted_results = pd.concat(\n",
    "        [rwd_polluted_results, pd.read_csv(os.path.join(results_path, file))]\n",
    "    )"
   ]
  },
  {
   "cell_type": "markdown",
   "id": "641c3f83-4b68-4719-96e8-d389052a6441",
   "metadata": {},
   "source": [
    "## Table 8 - PR-AUCs of RWD$^e$"
   ]
  },
  {
   "cell_type": "code",
   "execution_count": null,
   "id": "3bf1fb04-4e19-453b-94d1-5f160a06ad88",
   "metadata": {},
   "outputs": [],
   "source": [
    "subsets = {\n",
    "    \"rwdminus\": rwd_results[rwd_results[afd_utils.measure_order].notna().all(axis=\"columns\")].query(\"exact_fd == False\"),\n",
    "}\n",
    "\n",
    "data = {}\n",
    "rwd_e_n = {}\n",
    "rwd_e_afd = {}\n",
    "for noise_type in (\"copy\", \"bogus\", \"typo\"):\n",
    "    for noise_level in (0.01, 0.02, 0.05, 0.1):\n",
    "        _df = rwd_polluted_results[\n",
    "            rwd_polluted_results[afd_utils.measure_order].notna().all(axis=\"columns\")\n",
    "        ].query(\n",
    "            \"(exact_fd == False) & (noise_level == @noise_level) & (noise_type == @noise_type)\"\n",
    "        ).copy()\n",
    "        # add the polluted FDs to the ground truth\n",
    "        _df['afd'] = _df['afd'] | _df['fd_polluted']\n",
    "        subsets[\n",
    "            (f\"{noise_type}{int(noise_level*100)}\")\n",
    "        ] = _df\n",
    "        rwd_e_n[f\"{noise_type}{int(noise_level*100)}\"] = _df.shape[0]\n",
    "        rwd_e_afd[f\"{noise_type}{int(noise_level*100)}\"] = _df.afd.value_counts()[True] if _df.afd.any() else 0\n",
    "\n",
    "for subset_name, subset_df in subsets.items():\n",
    "    data[subset_name] = {\n",
    "        \"n\": subset_df.shape[0],\n",
    "        \"AFD(R)\": subset_df.afd.value_counts()[True],\n",
    "    }\n",
    "    for measure in afd_utils.measure_order:\n",
    "        _df = subset_df[subset_df[measure].notna()].copy()\n",
    "        precision, recall, _ = precision_recall_curve(\n",
    "            _df.loc[:, \"afd\"], _df.loc[:, measure]\n",
    "        )\n",
    "        _auc = auc(recall, precision)\n",
    "        data[subset_name][measure] = round(_auc, 3)\n",
    "\n",
    "rwdminus_e_aucs = pd.DataFrame(data)\n",
    "rwdminus_e_aucs.rename(index=afd_utils.measure_map)"
   ]
  },
  {
   "cell_type": "code",
   "execution_count": null,
   "id": "dbb80286-7773-4c28-847c-b5e908a17a12",
   "metadata": {},
   "outputs": [],
   "source": []
  }
 ],
 "metadata": {
  "kernelspec": {
   "display_name": "Python 3 (ipykernel)",
   "language": "python",
   "name": "python3"
  },
  "language_info": {
   "codemirror_mode": {
    "name": "ipython",
    "version": 3
   },
   "file_extension": ".py",
   "mimetype": "text/x-python",
   "name": "python",
   "nbconvert_exporter": "python",
   "pygments_lexer": "ipython3",
   "version": "3.11.0"
  }
 },
 "nbformat": 4,
 "nbformat_minor": 5
}
