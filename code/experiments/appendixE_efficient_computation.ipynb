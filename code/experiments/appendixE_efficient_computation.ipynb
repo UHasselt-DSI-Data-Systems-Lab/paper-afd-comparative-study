{
 "cells": [
  {
   "cell_type": "markdown",
   "id": "01972ec8-60b0-4894-a996-ad0acc6de095",
   "metadata": {
    "tags": []
   },
   "source": [
    "# Efficient Computation\n",
    "\n",
    "Measure the computation time needed to calculate all FD candidates in RWD."
   ]
  },
  {
   "cell_type": "code",
   "execution_count": null,
   "id": "c91ad2a1-3374-4c0a-90a6-375e3efc07d7",
   "metadata": {
    "tags": []
   },
   "outputs": [],
   "source": [
    "import cProfile\n",
    "import os\n",
    "import itertools\n",
    "import signal\n",
    "import sys\n",
    "import time\n",
    "\n",
    "import pandas as pd\n",
    "\n",
    "# for Jupyter notebooks: add the path of 'code' to allow importing module\n",
    "sys.path.append(os.path.join(os.getcwd(), \"..\"))\n",
    "from afd_measures import measures as afd_measures\n",
    "from afd_measures import utils as afd_utils\n",
    "\n",
    "data_path = \"../../data/rwd\"\n",
    "timing_path = \"../../timings\"\n",
    "\n",
    "def signal_handler(signal, frame):\n",
    "    search_frame = frame\n",
    "    while search_frame is not None and \"rwd_results\" not in search_frame.f_locals:\n",
    "        search_frame = search_frame.f_back\n",
    "    if search_frame is None:\n",
    "        sys.stderr.write(f\"Could not find rwd_results.\\n\")\n",
    "        exit(1)\n",
    "    measure = search_frame.f_locals[\"measure\"]\n",
    "    rwd_results = search_frame.f_locals[\"rwd_results\"]\n",
    "    pd.DataFrame(rwd_results).to_csv(os.path.join(timing_path, f\"timed_results_{measure}.csv\"))\n",
    "    while search_frame is not None and \"profiler\" not in search_frame.f_locals:\n",
    "        search_frame = search_frame.f_back\n",
    "    if search_frame is None:\n",
    "        sys.stderr.write(frame.f_globals + \"\\m\")\n",
    "        exit(1)\n",
    "    search_frame.f_locals[\"profiler\"].dump_stats(os.path.join(timing_path, f\"timed_profile_{measure}.pr\"))\n",
    "    sys.stderr.write(\"Stopped gracefully.\\n\")\n",
    "    exit(0)\n",
    "\n",
    "\n",
    "def run_rwd_for_measure(measure: str) -> None:\n",
    "    rwd_results = []\n",
    "    for df, table, lhs, rhs in [\n",
    "            (df, table, lhs, rhs)\n",
    "            for table, df in rwd_data.items()\n",
    "            for lhs, rhs in itertools.permutations(df.columns, 2)\n",
    "    ]:\n",
    "        result = {\n",
    "            \"table\": table,\n",
    "            \"lhs\": lhs,\n",
    "            \"rhs\": rhs,\n",
    "        }\n",
    "        _df = df.loc[:, [lhs, rhs]].dropna().copy()\n",
    "        if _df.empty:\n",
    "            result[\"empty\"] = True\n",
    "        else:\n",
    "            result[\"trivial_fd\"] = afd_utils.is_trivial_fd(_df, lhs, rhs)\n",
    "            result[\"exact_fd\"] = afd_utils.is_perfect_fd(_df, lhs, rhs)\n",
    "            if result[\"trivial_fd\"]:\n",
    "                result[measure] = 1.0\n",
    "            else:\n",
    "                result[measure] = getattr(afd_measures, measure)(df, lhs, rhs)\n",
    "        rwd_results.append(result)\n",
    "    pd.DataFrame(rwd_results).to_csv(os.path.join(timing_path, f\"timed_results_{measure}.csv\"))\n",
    "\n",
    "\n",
    "rwd_data = {}\n",
    "for i, file in enumerate(filter(lambda f: f.endswith(\".csv\"), os.listdir(data_path))):\n",
    "    rwd_data[file] = pd.read_csv(os.path.join(data_path, file))\n",
    "    rwd_data[file].columns = [\n",
    "        afd_utils.clean_colname(c) for c in rwd_data[file].columns\n",
    "    ]\n",
    "\n",
    "signal.signal(signal.SIGTERM, signal_handler)\n",
    "for measure in afd_utils.measure_order:\n",
    "    with cProfile.Profile() as profiler:\n",
    "        sys.stderr.write(f\"Starting {measure} now.\\n\")\n",
    "        profiler.runcall(run_rwd_for_measure, measure)\n",
    "        profiler.dump_stats(os.path.join(timing_path, f\"timed_profile_{measure}.pr\"))"
   ]
  },
  {
   "cell_type": "markdown",
   "id": "7ef22929-d416-4483-abc3-cbd4046e31d1",
   "metadata": {},
   "source": [
    "## Table 4 - measure runtimes"
   ]
  },
  {
   "cell_type": "code",
   "execution_count": null,
   "id": "4079c22d-2c4b-464d-93e0-7961ab27edc4",
   "metadata": {},
   "outputs": [],
   "source": [
    "timings = []\n",
    "for measure in afd_utils.measure_order:\n",
    "    if not os.path.exists(os.path.join(timing_path, f\"timed_profile_{measure}.pr\")):\n",
    "        continue\n",
    "    pr = pstats.Stats(os.path.join(timing_path, f\"timed_profile_{measure}.pr\"))\n",
    "    df = pd.read_csv(os.path.join(timing_path, f\"timed_results_{measure}.csv\"))\n",
    "    timings.append({\"measure\": measure, \"seconds\": pr.total_tt, \"candidates\": df.loc[:,measure].count()})\n",
    "timings_df = pd.DataFrame(timings)\n",
    "timings_df"
   ]
  },
  {
   "cell_type": "code",
   "execution_count": null,
   "id": "82588be6-ff89-4138-86bb-414e9437957d",
   "metadata": {},
   "outputs": [],
   "source": []
  }
 ],
 "metadata": {
  "kernelspec": {
   "display_name": "Python 3 (ipykernel)",
   "language": "python",
   "name": "python3"
  },
  "language_info": {
   "codemirror_mode": {
    "name": "ipython",
    "version": 3
   },
   "file_extension": ".py",
   "mimetype": "text/x-python",
   "name": "python",
   "nbconvert_exporter": "python",
   "pygments_lexer": "ipython3",
   "version": "3.11.0"
  }
 },
 "nbformat": 4,
 "nbformat_minor": 5
}
